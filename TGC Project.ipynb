{
 "cells": [
  {
   "cell_type": "markdown",
   "id": "4633def6",
   "metadata": {},
   "source": [
    "### Question 1: Counting Odd Numbers\n",
    "Write a program that continuously takes input from the user until they enter a negative number. The program should then print the count of all the odd numbers entered."
   ]
  },
  {
   "cell_type": "code",
   "execution_count": 2,
   "id": "347f8273",
   "metadata": {},
   "outputs": [
    {
     "name": "stdout",
     "output_type": "stream",
     "text": [
      "Enter a number: 45\n",
      "Enter a number: 65\n",
      "Enter a number: 65\n",
      "Enter a number: 4\n",
      "Enter a number: 45\n",
      "Enter a number: 55\n",
      "Enter a number: 6\n",
      "Enter a number: 6\n",
      "Enter a number: 5\n",
      "Enter a number: 5\n",
      "Enter a number: 44\n",
      "Enter a number: 4\n",
      "Enter a number: 54\n",
      "Enter a number: 54\n",
      "Enter a number: 6\n",
      "Enter a number: 65\n",
      "Enter a number: -2\n",
      "Count of odd numbers entered: 8\n"
     ]
    }
   ],
   "source": [
    "def main():\n",
    "    oc = 0\n",
    "    \n",
    "    while True:\n",
    "        try:\n",
    "            n = int(input(\"Enter a number: \"))\n",
    "            if n < 0:\n",
    "                break\n",
    "            if n % 2 != 0:\n",
    "                oc += 1\n",
    "        except ValueError:\n",
    "            print(\"Invalid input. Please enter a valid number.\")\n",
    "    \n",
    "    print(\"Count of odd numbers entered:\", oc)\n",
    "\n",
    "if __name__ == \"__main__\":\n",
    "    main()"
   ]
  },
  {
   "cell_type": "markdown",
   "id": "b65aa88c",
   "metadata": {},
   "source": [
    "### Question 2: Guessing Game\n",
    "Create a guessing game where the computer generates a random number between 1 and 100, and the player has to guess it. The game should provide feedback on whether the guess is too high or too low, and it should continue until the player guesses the correct number."
   ]
  },
  {
   "cell_type": "code",
   "execution_count": 5,
   "id": "ea4525cf",
   "metadata": {},
   "outputs": [
    {
     "name": "stdout",
     "output_type": "stream",
     "text": [
      "Welcome to the Guessing Game!\n",
      "I have chosen a number between 1 and 100. Try to guess it.\n",
      "Enter your guess: 40\n",
      "Too low! Try again.\n",
      "Enter your guess: 50\n",
      "Too low! Try again.\n",
      "Enter your guess: 60\n",
      "Too high! Try again.\n",
      "Enter your guess: 65\n",
      "Too high! Try again.\n",
      "Enter your guess: 63\n",
      "Too high! Try again.\n",
      "Enter your guess: 62\n",
      "Too high! Try again.\n",
      "Enter your guess: 61\n",
      "Too high! Try again.\n",
      "Enter your guess: 60\n",
      "Too high! Try again.\n",
      "Enter your guess: 50\n",
      "Too low! Try again.\n",
      "Enter your guess: 55\n",
      "Too low! Try again.\n",
      "Enter your guess: 58\n",
      "Too high! Try again.\n",
      "Enter your guess: 57\n",
      "Congratulations! You guessed the correct number 57 in 12 attempts.\n"
     ]
    }
   ],
   "source": [
    "import random\n",
    "\n",
    "def main():\n",
    "    n = random.randint(1, 100)\n",
    "    c = 0\n",
    "\n",
    "    print(\"Welcome to the Guessing Game!\")\n",
    "    print(\"I have chosen a number between 1 and 100. Try to guess it.\")\n",
    "\n",
    "    while True:\n",
    "        try:\n",
    "            t = int(input(\"Enter your guess: \"))\n",
    "            c += 1\n",
    "\n",
    "            if t < n:\n",
    "                print(\"Too low! Try again.\")\n",
    "            elif t > n:\n",
    "                print(\"Too high! Try again.\")\n",
    "            else:\n",
    "                print(f\"Congratulations! You guessed the correct number {n} in {c} attempts.\")\n",
    "                break\n",
    "        except ValueError:\n",
    "            print(\"Invalid input. Please enter a valid number.\")\n",
    "\n",
    "if __name__ == \"__main__\":\n",
    "    main()\n",
    "\n",
    "\n",
    "\n",
    "\n"
   ]
  },
  {
   "cell_type": "markdown",
   "id": "cad96fb5",
   "metadata": {},
   "source": [
    "### Question 3: Password Validation\n",
    "Write a program that repeatedly asks the user for a password. The program should keep asking until the user enters a password that meets the following criteria:\n",
    "\n",
    "* Contains at least 8 characters\n",
    "* Contains at least one uppercase letter\n",
    "* Contains at least one lowercase letter\n",
    "* Contains at least one digit"
   ]
  },
  {
   "cell_type": "code",
   "execution_count": 6,
   "id": "acec130a",
   "metadata": {},
   "outputs": [
    {
     "name": "stdout",
     "output_type": "stream",
     "text": [
      "Enter a password: ffdxhb656\n",
      "Password does not meet the criteria. Please try again.\n",
      "Enter a password: gchgf65464\n",
      "Password does not meet the criteria. Please try again.\n",
      "Enter a password: A1b33g45\n",
      "Password meets the criteria. Access granted.\n"
     ]
    }
   ],
   "source": [
    "import re\n",
    "\n",
    "def is_valid(passcode):\n",
    "    if len(passcode) < 8:\n",
    "        return False\n",
    "    if not re.search(r'[a-z]', passcode):\n",
    "        return False\n",
    "    if not re.search(r'[A-Z]', passcode):\n",
    "        return False\n",
    "    if not re.search(r'\\d', passcode):\n",
    "        return False\n",
    "    return True\n",
    "\n",
    "def main():\n",
    "    while True:\n",
    "        passcode = input(\"Enter a password: \")\n",
    "        if is_valid(passcode):\n",
    "            print(\"Password meets the criteria. Access granted.\")\n",
    "            break\n",
    "        else:\n",
    "            print(\"Password does not meet the criteria. Please try again.\")\n",
    "\n",
    "if __name__ == \"__main__\":\n",
    "    main()\n",
    "\n",
    "\n",
    "\n",
    "\n",
    "\n"
   ]
  },
  {
   "cell_type": "markdown",
   "id": "541421bf",
   "metadata": {},
   "source": [
    "## Questions on Conditional Staements\n",
    "### Question 4:\n",
    "Grade Classifier Write a program that takes a student's numerical grade as input and prints their corresponding letter grade according to the following scale:\n",
    "\n",
    "* 90 or above: A \n",
    "* 80-89: B \n",
    "* 70-79: C \n",
    "* 60-69: D \n",
    "* Below 60: F"
   ]
  },
  {
   "cell_type": "code",
   "execution_count": 33,
   "id": "fbda99b0",
   "metadata": {},
   "outputs": [
    {
     "name": "stdout",
     "output_type": "stream",
     "text": [
      "Enter the number secured : 95\n",
      "The student's letter grade is: A\n"
     ]
    }
   ],
   "source": [
    "def get_letter_grade(numerical_grade):\n",
    "    if numerical_grade >= 90:\n",
    "        return 'A'\n",
    "    elif numerical_grade >= 80:\n",
    "        return 'B'\n",
    "    elif numerical_grade >= 70:\n",
    "        return 'C'\n",
    "    elif numerical_grade >= 60:\n",
    "        return 'D'\n",
    "    else:\n",
    "        return 'F'\n",
    "\n",
    "def main():\n",
    "    try:\n",
    "        numerical_grade = float(input(\"Enter the number secured : \"))\n",
    "        if 0 <= numerical_grade <= 100:\n",
    "            letter_grade = get_letter_grade(numerical_grade)\n",
    "            print(f\"The student's letter grade is: {letter_grade}\")\n",
    "        else:\n",
    "            print(\"Invalid input. Numerical grade should be between 0 and 100.\")\n",
    "    except ValueError:\n",
    "        print(\"Invalid input. Please enter a numerical grade.\")\n",
    "\n",
    "if __name__ == \"__main__\":\n",
    "    main()\n"
   ]
  },
  {
   "cell_type": "markdown",
   "id": "3a490f10",
   "metadata": {},
   "source": [
    "### Question 5: Even or Odd \n",
    "Write a program that takes an integer as input and determines whether it is even or odd."
   ]
  },
  {
   "cell_type": "code",
   "execution_count": 8,
   "id": "57803023",
   "metadata": {},
   "outputs": [
    {
     "name": "stdout",
     "output_type": "stream",
     "text": [
      "Enter an integer: 867\n",
      "867 is odd.\n"
     ]
    }
   ],
   "source": [
    "def main():\n",
    "    try:\n",
    "        n = int(input(\"Enter an integer: \"))\n",
    "        if n % 2 == 0:\n",
    "            print(f\"{n} is even.\")\n",
    "        else:\n",
    "            print(f\"{n} is odd.\")\n",
    "    except ValueError:\n",
    "        print(\"Invalid input. Please enter an integer.\")\n",
    "\n",
    "if __name__ == \"__main__\":\n",
    "    main()\n"
   ]
  },
  {
   "cell_type": "markdown",
   "id": "e0e677f5",
   "metadata": {},
   "source": [
    "### Question 6: Leap Year Checker \n",
    "Write a program that checks if a given year is a leap year. A leap year is either divisible by 4 but not by 100, or divisible by 400.\n"
   ]
  },
  {
   "cell_type": "code",
   "execution_count": 11,
   "id": "d705a0c9",
   "metadata": {},
   "outputs": [
    {
     "name": "stdout",
     "output_type": "stream",
     "text": [
      "Enter a year: 2013\n",
      "2013 is not a leap year.\n"
     ]
    }
   ],
   "source": [
    "def is_ly(year):\n",
    "    if (year % 4 == 0 and year % 100 != 0) or (year % 400 == 0):\n",
    "        return True\n",
    "    return False\n",
    "\n",
    "def main():\n",
    "    try:\n",
    "        year = int(input(\"Enter a year: \"))\n",
    "        if is_ly(year):\n",
    "            print(f\"{year} is a leap year.\")\n",
    "        else:\n",
    "            print(f\"{year} is not a leap year.\")\n",
    "    except ValueError:\n",
    "        print(\"Invalid input. Please enter a valid year.\")\n",
    "\n",
    "if __name__ == \"__main__\":\n",
    "    main()\n"
   ]
  },
  {
   "cell_type": "markdown",
   "id": "f4adc74d",
   "metadata": {},
   "source": [
    "### Question 7: Positive, Negative, or Zero \n",
    "Write a program that takes a number as input and prints whether it is positive, negative, or zero."
   ]
  },
  {
   "cell_type": "code",
   "execution_count": 12,
   "id": "54d1aa6e",
   "metadata": {},
   "outputs": [
    {
     "name": "stdout",
     "output_type": "stream",
     "text": [
      "Enter a number: 86745\n",
      "The number is positive.\n"
     ]
    }
   ],
   "source": [
    "def main():\n",
    "    try:\n",
    "        n = float(input(\"Enter a number: \"))\n",
    "        if n > 0:\n",
    "            print(\"The number is positive.\")\n",
    "        elif number < 0:\n",
    "            print(\"The number is negative.\")\n",
    "        else:\n",
    "            print(\"The number is zero.\")\n",
    "    except ValueError:\n",
    "        print(\"Invalid input. Please enter a valid number.\")\n",
    "\n",
    "if __name__ == \"__main__\":\n",
    "    main()\n"
   ]
  },
  {
   "cell_type": "markdown",
   "id": "a42f450b",
   "metadata": {},
   "source": [
    "### Question 8: Triangle Type\n",
    "Write a program that takes the lengths of three sides of a triangle as input and determines whether it's an equilateral, isosceles, or scalene triangle."
   ]
  },
  {
   "cell_type": "code",
   "execution_count": 15,
   "id": "a5621540",
   "metadata": {},
   "outputs": [
    {
     "name": "stdout",
     "output_type": "stream",
     "text": [
      "Enter the length of side 1: 54\n",
      "Enter the length of side 2: 64\n",
      "Enter the length of side 3: 4\n",
      "The triangle is Scalene.\n"
     ]
    }
   ],
   "source": [
    "def tt(a, b, c):\n",
    "    if a == b == c:\n",
    "        return \"Equilateral\"\n",
    "    elif a == b or a == c or b == c:\n",
    "        return \"Isosceles\"\n",
    "    else:\n",
    "        return \"Scalene\"\n",
    "\n",
    "def main():\n",
    "    try:\n",
    "        a = float(input(\"Enter the length of side 1: \"))\n",
    "        b = float(input(\"Enter the length of side 2: \"))\n",
    "        c = float(input(\"Enter the length of side 3: \"))\n",
    "        \n",
    "        if a > 0 and b > 0 and c > 0:\n",
    "            triangle = tt(a,b,c)\n",
    "            print(f\"The triangle is {triangle}.\")\n",
    "        else:\n",
    "            print(\"Invalid input. Side lengths should be positive.\")\n",
    "    except ValueError:\n",
    "        print(\"Invalid input. Please enter valid side lengths.\")\n",
    "\n",
    "if __name__ == \"__main__\":\n",
    "    main()\n"
   ]
  },
  {
   "cell_type": "markdown",
   "id": "9e7c0d75",
   "metadata": {},
   "source": [
    "## Questions on For Loop\n",
    "### Question 9: Print Even Numbers \n",
    "\n",
    "Write a program that prints all even numbers between 1 and 20."
   ]
  },
  {
   "cell_type": "code",
   "execution_count": 16,
   "id": "8ef13fdf",
   "metadata": {},
   "outputs": [
    {
     "name": "stdout",
     "output_type": "stream",
     "text": [
      "2\n",
      "4\n",
      "6\n",
      "8\n",
      "10\n",
      "12\n",
      "14\n",
      "16\n",
      "18\n",
      "20\n"
     ]
    }
   ],
   "source": [
    "def main():\n",
    "    for number in range(2, 21, 2):\n",
    "        print(number)\n",
    "\n",
    "if __name__ == \"__main__\":\n",
    "    main()\n"
   ]
  },
  {
   "cell_type": "markdown",
   "id": "b125f3cc",
   "metadata": {},
   "source": [
    "### Question 10: Calculate Factorial \n",
    "Write a program that calculates the factorial of a given positive integer."
   ]
  },
  {
   "cell_type": "code",
   "execution_count": 17,
   "id": "c37b472d",
   "metadata": {},
   "outputs": [
    {
     "name": "stdout",
     "output_type": "stream",
     "text": [
      "Enter a positive integer: 565\n",
      "The factorial of 565 is 2023806358019692198296574543614652610088989694971139234159080944893764691281933564858686824847194520489549753080864976523918088924224155118972088433224927654180062551590957031540977302959201825239760807199105485695402171502979396954096198467217336309839962047478998424336667502168403561269337962547924106285520479998205233226886211456952036065319768878737146228714726076671158661071700226325903322740606101677895530425665889761500316468346996276230230285808462176544502288617222671512500594182115355483214261159257211252268854727853330476101878049310780624018354758485573256570601344512319495913410481106163225270965503328272107373978253403101637702735622272713571484598440436885697213752667469188122809775292018902610754770819791930170986195067056599088158212120811019019418657463846026687882790287737954989169152218276822718539453556782398241836656487179881208623923003711992085183482548821177547502088265856916499711502851986648697752153465944884313569016029876474947393409453391617378527646745031496893812411958567203139241052264695474862214634079878764900789285738958478378819163533746130355399058583849202889553179087554794317056702478759435618477751848528391270563840000000000000000000000000000000000000000000000000000000000000000000000000000000000000000000000000000000000000000000000000000000000000000000.\n"
     ]
    }
   ],
   "source": [
    "def factorial(n):\n",
    "    if n == 0:\n",
    "        return 1\n",
    "    else:\n",
    "        return n * factorial(n - 1)\n",
    "\n",
    "def main():\n",
    "    try:\n",
    "        num = int(input(\"Enter a positive integer: \"))\n",
    "        if num >= 0:\n",
    "            result = factorial(num)\n",
    "            print(f\"The factorial of {num} is {result}.\")\n",
    "        else:\n",
    "            print(\"Invalid input. Please enter a non-negative integer.\")\n",
    "    except ValueError:\n",
    "        print(\"Invalid input. Please enter a valid positive integer.\")\n",
    "\n",
    "if __name__ == \"__main__\":\n",
    "    main()\n"
   ]
  },
  {
   "cell_type": "markdown",
   "id": "b072e53d",
   "metadata": {},
   "source": [
    "### Question 11: Print Multiplication Table \n",
    "Write a program that takes an integer as input and prints its multiplication table up to 10."
   ]
  },
  {
   "cell_type": "code",
   "execution_count": 18,
   "id": "394c4a23",
   "metadata": {},
   "outputs": [
    {
     "name": "stdout",
     "output_type": "stream",
     "text": [
      "Enter an integer: 86574\n",
      "86574 x 1 = 86574\n",
      "86574 x 2 = 173148\n",
      "86574 x 3 = 259722\n",
      "86574 x 4 = 346296\n",
      "86574 x 5 = 432870\n",
      "86574 x 6 = 519444\n",
      "86574 x 7 = 606018\n",
      "86574 x 8 = 692592\n",
      "86574 x 9 = 779166\n",
      "86574 x 10 = 865740\n"
     ]
    }
   ],
   "source": [
    "def print_table(num):\n",
    "    for i in range(1, 11):\n",
    "        print(f\"{num} x {i} = {num * i}\")\n",
    "\n",
    "def main():\n",
    "    try:\n",
    "        num = int(input(\"Enter an integer: \"))\n",
    "        print_table(num)\n",
    "    except ValueError:\n",
    "        print(\"Invalid input. Please enter an integer.\")\n",
    "\n",
    "if __name__ == \"__main__\":\n",
    "    main()\n"
   ]
  },
  {
   "cell_type": "markdown",
   "id": "916827d7",
   "metadata": {},
   "source": [
    "### Question 12: Calculate Sum of Digits \n",
    "Write a program that calculates the sum of the digits of a given number."
   ]
  },
  {
   "cell_type": "code",
   "execution_count": 21,
   "id": "ee0deb89",
   "metadata": {},
   "outputs": [
    {
     "name": "stdout",
     "output_type": "stream",
     "text": [
      "Enter a number: 688\n",
      "The sum of the digits of 688 is 22.\n"
     ]
    }
   ],
   "source": [
    "def sum_of_digits(number):\n",
    "    total = 0\n",
    "    while number > 0:\n",
    "        digit = number % 10\n",
    "        total += digit\n",
    "        number //= 10\n",
    "    return total\n",
    "\n",
    "def main():\n",
    "    try:\n",
    "        number = int(input(\"Enter a number: \"))\n",
    "        result = sum_of_digits(abs(number))\n",
    "        print(f\"The sum of the digits of {number} is {result}.\")\n",
    "    except ValueError:\n",
    "        print(\"Invalid input. Please enter a valid integer.\")\n",
    "\n",
    "if __name__ == \"__main__\":\n",
    "    main()\n"
   ]
  },
  {
   "cell_type": "markdown",
   "id": "59aef4ac",
   "metadata": {},
   "source": [
    "### Question 13: Calculate Fibonacci Series \n",
    "Write a program that generates the Fibonacci series up to a given number of terms."
   ]
  },
  {
   "cell_type": "code",
   "execution_count": 23,
   "id": "26f99614",
   "metadata": {},
   "outputs": [
    {
     "name": "stdout",
     "output_type": "stream",
     "text": [
      "Enter the number of terms for the Fibonacci series: 45\n",
      "Fibonacci series:\n",
      "0 1 1 2 3 5 8 13 21 34 55 89 144 233 377 610 987 1597 2584 4181 6765 10946 17711 28657 46368 75025 121393 196418 317811 514229 832040 1346269 2178309 3524578 5702887 9227465 14930352 24157817 39088169 63245986 102334155 165580141 267914296 433494437 701408733 "
     ]
    }
   ],
   "source": [
    "def fibonacci_series(n):\n",
    "    series = [0, 1]\n",
    "    for i in range(2, n):\n",
    "        next_num = series[i - 1] + series[i - 2]\n",
    "        series.append(next_num)\n",
    "    return series\n",
    "\n",
    "def main():\n",
    "    try:\n",
    "        terms = int(input(\"Enter the number of terms for the Fibonacci series: \"))\n",
    "        if terms <= 0:\n",
    "            print(\"Please enter a positive integer.\")\n",
    "        else:\n",
    "            fib_series = fibonacci_series(terms)\n",
    "            print(\"Fibonacci series:\")\n",
    "            for num in fib_series:\n",
    "                print(num, end=\" \")\n",
    "    except ValueError:\n",
    "        print(\"Invalid input. Please enter a valid integer.\")\n",
    "\n",
    "if __name__ == \"__main__\":\n",
    "    main()\n",
    "\n",
    "    "
   ]
  },
  {
   "cell_type": "markdown",
   "id": "8c3e2bef",
   "metadata": {},
   "source": [
    "# Pattern Programs"
   ]
  },
  {
   "cell_type": "markdown",
   "id": "06fcc518",
   "metadata": {},
   "source": [
    "### Question 2: Hollow Square Pattern\n",
    "Write a program to print a hollow square pattern of asterisks (*) with a side length of 5."
   ]
  },
  {
   "cell_type": "code",
   "execution_count": 26,
   "id": "fbb05ada",
   "metadata": {},
   "outputs": [],
   "source": [
    "#   *\n",
    "# *   *\n",
    "# *   *\n",
    "# *   *\n",
    "#   *"
   ]
  },
  {
   "cell_type": "code",
   "execution_count": 27,
   "id": "58446f3a",
   "metadata": {},
   "outputs": [
    {
     "name": "stdout",
     "output_type": "stream",
     "text": [
      "* * * * * \n",
      "*       * \n",
      "*       * \n",
      "*       * \n",
      "* * * * * \n"
     ]
    }
   ],
   "source": [
    "def print_hollow_square(side_len):\n",
    "    for i in range(side_len):\n",
    "        for j in range(side_len):\n",
    "            if i == 0 or i == side_len - 1 or j == 0 or j == side_len - 1:\n",
    "                print(\"*\", end=\" \")\n",
    "            else:\n",
    "                print(\" \", end=\" \")\n",
    "        print()\n",
    "\n",
    "def main():\n",
    "    side_len = 5\n",
    "    print_hollow_square(side_len)\n",
    "\n",
    "if __name__ == \"__main__\":\n",
    "    main()\n"
   ]
  },
  {
   "cell_type": "markdown",
   "id": "f84621c2",
   "metadata": {},
   "source": [
    "### Question 3: Right Triangle Number Pattern\n",
    "Write a program to print a right triangle number pattern\n",
    "\n",
    "1\n",
    "\n",
    "12\n",
    "\n",
    "123\n",
    "\n",
    "1234\n",
    "\n",
    "12345"
   ]
  },
  {
   "cell_type": "code",
   "execution_count": 28,
   "id": "56c423f3",
   "metadata": {},
   "outputs": [
    {
     "name": "stdout",
     "output_type": "stream",
     "text": [
      "1\n",
      "12\n",
      "123\n",
      "1234\n",
      "12345\n"
     ]
    }
   ],
   "source": [
    "def print_rtriangle(rows):\n",
    "    for i in range(1, rows + 1):\n",
    "        for j in range(1, i + 1):\n",
    "            print(j, end=\"\")\n",
    "        print()\n",
    "\n",
    "def main():\n",
    "    rows = 5\n",
    "    print_rtriangle(rows)\n",
    "\n",
    "if __name__ == \"__main__\":\n",
    "    main()\n"
   ]
  }
 ],
 "metadata": {
  "kernelspec": {
   "display_name": "Python 3 (ipykernel)",
   "language": "python",
   "name": "python3"
  },
  "language_info": {
   "codemirror_mode": {
    "name": "ipython",
    "version": 3
   },
   "file_extension": ".py",
   "mimetype": "text/x-python",
   "name": "python",
   "nbconvert_exporter": "python",
   "pygments_lexer": "ipython3",
   "version": "3.10.9"
  }
 },
 "nbformat": 4,
 "nbformat_minor": 5
}
