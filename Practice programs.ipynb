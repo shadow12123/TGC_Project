{
 "cells": [
  {
   "cell_type": "markdown",
   "id": "de2baabb",
   "metadata": {},
   "source": [
    "### 1. Write a Python program to find the area of a triangle"
   ]
  },
  {
   "cell_type": "code",
   "execution_count": 5,
   "id": "e4165364",
   "metadata": {},
   "outputs": [],
   "source": [
    "def area(x,y):\n",
    "    c=0.5*x*y\n",
    "    print ('The area of triangle with the given dimensions is:',c)"
   ]
  },
  {
   "cell_type": "code",
   "execution_count": 6,
   "id": "b39cbdc3",
   "metadata": {},
   "outputs": [
    {
     "name": "stdout",
     "output_type": "stream",
     "text": [
      "The area of triangle with the given dimensions is: 700.0\n"
     ]
    }
   ],
   "source": [
    "area(25,56)"
   ]
  },
  {
   "cell_type": "markdown",
   "id": "64c20fdb",
   "metadata": {},
   "source": [
    "### 2.Write a Python program to swap two variables"
   ]
  },
  {
   "cell_type": "code",
   "execution_count": 7,
   "id": "a7ecedcf",
   "metadata": {},
   "outputs": [],
   "source": [
    "def swap(a,b):\n",
    "    print('The numbers before swapping are:', a, 'and',b)\n",
    "    c=a\n",
    "    a=b\n",
    "    b=c\n",
    "    print('The numbers after swapping are:', a,'and',b)"
   ]
  },
  {
   "cell_type": "code",
   "execution_count": 8,
   "id": "19554510",
   "metadata": {},
   "outputs": [
    {
     "name": "stdout",
     "output_type": "stream",
     "text": [
      "The numbers before swapping are: 256 and 658\n",
      "The numbers after swapping are: 658 and 256\n"
     ]
    }
   ],
   "source": [
    "swap(256,658)"
   ]
  },
  {
   "cell_type": "markdown",
   "id": "69bfc83e",
   "metadata": {},
   "source": [
    "### 3.Write a Python program to generate a random number"
   ]
  },
  {
   "cell_type": "code",
   "execution_count": 9,
   "id": "bb002a1a",
   "metadata": {},
   "outputs": [
    {
     "name": "stdout",
     "output_type": "stream",
     "text": [
      "11033\n"
     ]
    }
   ],
   "source": [
    "from random import randint\n",
    "\n",
    "print(randint(0,25648))"
   ]
  },
  {
   "cell_type": "markdown",
   "id": "86865fce",
   "metadata": {},
   "source": [
    "### 4.Write a Python program to convert Kilometers to Miles"
   ]
  },
  {
   "cell_type": "code",
   "execution_count": 10,
   "id": "3383562f",
   "metadata": {},
   "outputs": [
    {
     "name": "stdout",
     "output_type": "stream",
     "text": [
      "Enter the distance in kilometers2568\n",
      "The given distance in miles is: 1595.4984\n"
     ]
    }
   ],
   "source": [
    "a= float(input(\"Enter the distance in kilometers\"))\n",
    "b= a*0.6213\n",
    "print('The given distance in miles is:',b)"
   ]
  },
  {
   "cell_type": "markdown",
   "id": "600d5a07",
   "metadata": {},
   "source": [
    "### 5.Write a Python program to convert Celsius to Farenheit"
   ]
  },
  {
   "cell_type": "code",
   "execution_count": 1,
   "id": "0be75e2b",
   "metadata": {},
   "outputs": [
    {
     "name": "stdout",
     "output_type": "stream",
     "text": [
      "Enter the temperature in celcius:256.488\n",
      "The entered temperature in Farenheit is : 493.6784\n"
     ]
    }
   ],
   "source": [
    "c= float (input('Enter the temperature in celcius:'))\n",
    "f=(c*(9/5)+32)\n",
    "print(\"The entered temperature in Farenheit is :\",f)"
   ]
  },
  {
   "cell_type": "markdown",
   "id": "beb43e9c",
   "metadata": {},
   "source": [
    "### 6.Write a Python program to display calender"
   ]
  },
  {
   "cell_type": "code",
   "execution_count": 2,
   "id": "d580027d",
   "metadata": {},
   "outputs": [],
   "source": [
    "import calendar"
   ]
  },
  {
   "cell_type": "code",
   "execution_count": 3,
   "id": "a15e0def",
   "metadata": {},
   "outputs": [],
   "source": [
    "def cal():\n",
    "    year=int(input(\"Enter the year:\"))\n",
    "    print(calendar.calendar(year))"
   ]
  },
  {
   "cell_type": "code",
   "execution_count": 4,
   "id": "e79f35d8",
   "metadata": {},
   "outputs": [
    {
     "name": "stdout",
     "output_type": "stream",
     "text": [
      "Enter the year:2023\n",
      "                                  2023\n",
      "\n",
      "      January                   February                   March\n",
      "Mo Tu We Th Fr Sa Su      Mo Tu We Th Fr Sa Su      Mo Tu We Th Fr Sa Su\n",
      "                   1             1  2  3  4  5             1  2  3  4  5\n",
      " 2  3  4  5  6  7  8       6  7  8  9 10 11 12       6  7  8  9 10 11 12\n",
      " 9 10 11 12 13 14 15      13 14 15 16 17 18 19      13 14 15 16 17 18 19\n",
      "16 17 18 19 20 21 22      20 21 22 23 24 25 26      20 21 22 23 24 25 26\n",
      "23 24 25 26 27 28 29      27 28                     27 28 29 30 31\n",
      "30 31\n",
      "\n",
      "       April                      May                       June\n",
      "Mo Tu We Th Fr Sa Su      Mo Tu We Th Fr Sa Su      Mo Tu We Th Fr Sa Su\n",
      "                1  2       1  2  3  4  5  6  7                1  2  3  4\n",
      " 3  4  5  6  7  8  9       8  9 10 11 12 13 14       5  6  7  8  9 10 11\n",
      "10 11 12 13 14 15 16      15 16 17 18 19 20 21      12 13 14 15 16 17 18\n",
      "17 18 19 20 21 22 23      22 23 24 25 26 27 28      19 20 21 22 23 24 25\n",
      "24 25 26 27 28 29 30      29 30 31                  26 27 28 29 30\n",
      "\n",
      "        July                     August                  September\n",
      "Mo Tu We Th Fr Sa Su      Mo Tu We Th Fr Sa Su      Mo Tu We Th Fr Sa Su\n",
      "                1  2          1  2  3  4  5  6                   1  2  3\n",
      " 3  4  5  6  7  8  9       7  8  9 10 11 12 13       4  5  6  7  8  9 10\n",
      "10 11 12 13 14 15 16      14 15 16 17 18 19 20      11 12 13 14 15 16 17\n",
      "17 18 19 20 21 22 23      21 22 23 24 25 26 27      18 19 20 21 22 23 24\n",
      "24 25 26 27 28 29 30      28 29 30 31               25 26 27 28 29 30\n",
      "31\n",
      "\n",
      "      October                   November                  December\n",
      "Mo Tu We Th Fr Sa Su      Mo Tu We Th Fr Sa Su      Mo Tu We Th Fr Sa Su\n",
      "                   1             1  2  3  4  5                   1  2  3\n",
      " 2  3  4  5  6  7  8       6  7  8  9 10 11 12       4  5  6  7  8  9 10\n",
      " 9 10 11 12 13 14 15      13 14 15 16 17 18 19      11 12 13 14 15 16 17\n",
      "16 17 18 19 20 21 22      20 21 22 23 24 25 26      18 19 20 21 22 23 24\n",
      "23 24 25 26 27 28 29      27 28 29 30               25 26 27 28 29 30 31\n",
      "30 31\n",
      "\n"
     ]
    }
   ],
   "source": [
    "cal()"
   ]
  },
  {
   "cell_type": "markdown",
   "id": "8ad2da4f",
   "metadata": {},
   "source": [
    "### 7.Write a Python program to swap two variables without temp variable"
   ]
  },
  {
   "cell_type": "code",
   "execution_count": 8,
   "id": "375be383",
   "metadata": {},
   "outputs": [
    {
     "name": "stdout",
     "output_type": "stream",
     "text": [
      "Enter the first number:25\n",
      "Enter the second number:236\n",
      "Numbers before swapping are 25 and 236\n",
      "The numbers after swapping are  236 and 25\n"
     ]
    }
   ],
   "source": [
    "a= int ( input(\"Enter the first number:\"))\n",
    "b= int ( input(\"Enter the second number:\"))\n",
    "\n",
    "def swapping(a,b):\n",
    "    print(\"Numbers before swapping are\",a,\"and\",b)\n",
    "    a=a+b\n",
    "    b=a-b\n",
    "    a=a-b\n",
    "    print (\"The numbers after swapping are \",a,\"and\",b)\n",
    "    \n",
    "swapping(a,b)"
   ]
  },
  {
   "cell_type": "markdown",
   "id": "563f68d2",
   "metadata": {},
   "source": [
    "### 8.Write a Python program to check if a Number is Positive, Negative or Zero"
   ]
  },
  {
   "cell_type": "code",
   "execution_count": 6,
   "id": "94b31418",
   "metadata": {},
   "outputs": [
    {
     "name": "stdout",
     "output_type": "stream",
     "text": [
      "Enter the number to be checked:-256\n",
      "The entered number is a negative number.\n"
     ]
    }
   ],
   "source": [
    "a= float(input(\"Enter the number to be checked:\"))\n",
    "\n",
    "def check(a):\n",
    "    if(a==0):\n",
    "        print(\"The entered number is zero.\")\n",
    "    elif(a>=0):\n",
    "        print(\"The entered number is positive.\")\n",
    "    else:\n",
    "        print(\"The entered number is a negative number.\")\n",
    "check(a)"
   ]
  },
  {
   "cell_type": "markdown",
   "id": "7f53d629",
   "metadata": {},
   "source": [
    "#### 9.Write a program to input a number and check whether the number is even or odd"
   ]
  },
  {
   "cell_type": "code",
   "execution_count": 8,
   "id": "33f3d41f",
   "metadata": {},
   "outputs": [
    {
     "name": "stdout",
     "output_type": "stream",
     "text": [
      "Enter the number:255\n",
      "The entered number is odd.\n"
     ]
    }
   ],
   "source": [
    "a= float(input(\"Enter the number:\"))\n",
    "\n",
    "def oddeven(a):\n",
    "    if(a%2==0):\n",
    "        print(\"The entered number is even.\")\n",
    "    else:\n",
    "        print(\"The entered number is odd.\")\n",
    "oddeven(a)"
   ]
  },
  {
   "cell_type": "markdown",
   "id": "0ea37d51",
   "metadata": {},
   "source": [
    "### 10.Write a Python program to check Leap Year"
   ]
  },
  {
   "cell_type": "code",
   "execution_count": 11,
   "id": "a5c9be55",
   "metadata": {},
   "outputs": [
    {
     "name": "stdout",
     "output_type": "stream",
     "text": [
      "Enter the year:2021\n",
      "The entered year isn't a leap year\n"
     ]
    }
   ],
   "source": [
    "a=float(input(\"Enter the year:\"))\n",
    "\n",
    "def year(a):\n",
    "    if(a%4==0):\n",
    "        print(\"The entered year is a leap year\")\n",
    "    else:\n",
    "        print(\"The entered year isn't a leap year\")\n",
    "        \n",
    "year(a)"
   ]
  },
  {
   "cell_type": "markdown",
   "id": "dc906269",
   "metadata": {},
   "source": [
    "### 11.Write a Python program to check Prime Number"
   ]
  },
  {
   "cell_type": "code",
   "execution_count": 12,
   "id": "df67ad70",
   "metadata": {},
   "outputs": [
    {
     "name": "stdout",
     "output_type": "stream",
     "text": [
      "Enter the number to be checked.6\n",
      "The entered number is not a prime number.\n"
     ]
    }
   ],
   "source": [
    "n= int(input(\"Enter the number to be checked.\"))\n",
    "\n",
    "def prime(m):\n",
    "    flag= False\n",
    "    for i in range(2,m):\n",
    "        if m%i==0:\n",
    "            flag=True\n",
    "            break\n",
    "    if (not flag ):\n",
    "        print(\"The entered number is a prime number.\")\n",
    "    else:\n",
    "        print(\"The entered number is not a prime number.\")\n",
    "\n",
    "prime(n)"
   ]
  },
  {
   "cell_type": "markdown",
   "id": "d83c50f7",
   "metadata": {},
   "source": [
    "### 12.Write a Python program to print all Prime Numbers in an interval of 1-10000"
   ]
  },
  {
   "cell_type": "code",
   "execution_count": 2,
   "id": "2befc157",
   "metadata": {},
   "outputs": [
    {
     "name": "stdout",
     "output_type": "stream",
     "text": [
      "The list of prime numbers are:  [1, 2, 3, 5, 7, 11, 13, 17, 19, 23, 29, 31, 37, 41, 43, 47, 53, 59, 61, 67, 71, 73, 79, 83, 89, 97, 101, 103, 107, 109, 113, 127, 131, 137, 139, 149, 151, 157, 163, 167, 173, 179, 181, 191, 193, 197, 199, 211, 223, 227, 229, 233, 239, 241, 251, 257, 263, 269, 271, 277, 281, 283, 293, 307, 311, 313, 317, 331, 337, 347, 349, 353, 359, 367, 373, 379, 383, 389, 397, 401, 409, 419, 421, 431, 433, 439, 443, 449, 457, 461, 463, 467, 479, 487, 491, 499, 503, 509, 521, 523, 541, 547, 557, 563, 569, 571, 577, 587, 593, 599, 601, 607, 613, 617, 619, 631, 641, 643, 647, 653, 659, 661, 673, 677, 683, 691, 701, 709, 719, 727, 733, 739, 743, 751, 757, 761, 769, 773, 787, 797, 809, 811, 821, 823, 827, 829, 839, 853, 857, 859, 863, 877, 881, 883, 887, 907, 911, 919, 929, 937, 941, 947, 953, 967, 971, 977, 983, 991, 997, 1009, 1013, 1019, 1021, 1031, 1033, 1039, 1049, 1051, 1061, 1063, 1069, 1087, 1091, 1093, 1097, 1103, 1109, 1117, 1123, 1129, 1151, 1153, 1163, 1171, 1181, 1187, 1193, 1201, 1213, 1217, 1223, 1229, 1231, 1237, 1249, 1259, 1277, 1279, 1283, 1289, 1291, 1297, 1301, 1303, 1307, 1319, 1321, 1327, 1361, 1367, 1373, 1381, 1399, 1409, 1423, 1427, 1429, 1433, 1439, 1447, 1451, 1453, 1459, 1471, 1481, 1483, 1487, 1489, 1493, 1499, 1511, 1523, 1531, 1543, 1549, 1553, 1559, 1567, 1571, 1579, 1583, 1597, 1601, 1607, 1609, 1613, 1619, 1621, 1627, 1637, 1657, 1663, 1667, 1669, 1693, 1697, 1699, 1709, 1721, 1723, 1733, 1741, 1747, 1753, 1759, 1777, 1783, 1787, 1789, 1801, 1811, 1823, 1831, 1847, 1861, 1867, 1871, 1873, 1877, 1879, 1889, 1901, 1907, 1913, 1931, 1933, 1949, 1951, 1973, 1979, 1987, 1993, 1997, 1999, 2003, 2011, 2017, 2027, 2029, 2039, 2053, 2063, 2069, 2081, 2083, 2087, 2089, 2099, 2111, 2113, 2129, 2131, 2137, 2141, 2143, 2153, 2161, 2179, 2203, 2207, 2213, 2221, 2237, 2239, 2243, 2251, 2267, 2269, 2273, 2281, 2287, 2293, 2297, 2309, 2311, 2333, 2339, 2341, 2347, 2351, 2357, 2371, 2377, 2381, 2383, 2389, 2393, 2399, 2411, 2417, 2423, 2437, 2441, 2447, 2459, 2467, 2473, 2477, 2503, 2521, 2531, 2539, 2543, 2549, 2551, 2557, 2579, 2591, 2593, 2609, 2617, 2621, 2633, 2647, 2657, 2659, 2663, 2671, 2677, 2683, 2687, 2689, 2693, 2699, 2707, 2711, 2713, 2719, 2729, 2731, 2741, 2749, 2753, 2767, 2777, 2789, 2791, 2797, 2801, 2803, 2819, 2833, 2837, 2843, 2851, 2857, 2861, 2879, 2887, 2897, 2903, 2909, 2917, 2927, 2939, 2953, 2957, 2963, 2969, 2971, 2999, 3001, 3011, 3019, 3023, 3037, 3041, 3049, 3061, 3067, 3079, 3083, 3089, 3109, 3119, 3121, 3137, 3163, 3167, 3169, 3181, 3187, 3191, 3203, 3209, 3217, 3221, 3229, 3251, 3253, 3257, 3259, 3271, 3299, 3301, 3307, 3313, 3319, 3323, 3329, 3331, 3343, 3347, 3359, 3361, 3371, 3373, 3389, 3391, 3407, 3413, 3433, 3449, 3457, 3461, 3463, 3467, 3469, 3491, 3499, 3511, 3517, 3527, 3529, 3533, 3539, 3541, 3547, 3557, 3559, 3571, 3581, 3583, 3593, 3607, 3613, 3617, 3623, 3631, 3637, 3643, 3659, 3671, 3673, 3677, 3691, 3697, 3701, 3709, 3719, 3727, 3733, 3739, 3761, 3767, 3769, 3779, 3793, 3797, 3803, 3821, 3823, 3833, 3847, 3851, 3853, 3863, 3877, 3881, 3889, 3907, 3911, 3917, 3919, 3923, 3929, 3931, 3943, 3947, 3967, 3989, 4001, 4003, 4007, 4013, 4019, 4021, 4027, 4049, 4051, 4057, 4073, 4079, 4091, 4093, 4099, 4111, 4127, 4129, 4133, 4139, 4153, 4157, 4159, 4177, 4201, 4211, 4217, 4219, 4229, 4231, 4241, 4243, 4253, 4259, 4261, 4271, 4273, 4283, 4289, 4297, 4327, 4337, 4339, 4349, 4357, 4363, 4373, 4391, 4397, 4409, 4421, 4423, 4441, 4447, 4451, 4457, 4463, 4481, 4483, 4493, 4507, 4513, 4517, 4519, 4523, 4547, 4549, 4561, 4567, 4583, 4591, 4597, 4603, 4621, 4637, 4639, 4643, 4649, 4651, 4657, 4663, 4673, 4679, 4691, 4703, 4721, 4723, 4729, 4733, 4751, 4759, 4783, 4787, 4789, 4793, 4799, 4801, 4813, 4817, 4831, 4861, 4871, 4877, 4889, 4903, 4909, 4919, 4931, 4933, 4937, 4943, 4951, 4957, 4967, 4969, 4973, 4987, 4993, 4999, 5003, 5009, 5011, 5021, 5023, 5039, 5051, 5059, 5077, 5081, 5087, 5099, 5101, 5107, 5113, 5119, 5147, 5153, 5167, 5171, 5179, 5189, 5197, 5209, 5227, 5231, 5233, 5237, 5261, 5273, 5279, 5281, 5297, 5303, 5309, 5323, 5333, 5347, 5351, 5381, 5387, 5393, 5399, 5407, 5413, 5417, 5419, 5431, 5437, 5441, 5443, 5449, 5471, 5477, 5479, 5483, 5501, 5503, 5507, 5519, 5521, 5527, 5531, 5557, 5563, 5569, 5573, 5581, 5591, 5623, 5639, 5641, 5647, 5651, 5653, 5657, 5659, 5669, 5683, 5689, 5693, 5701, 5711, 5717, 5737, 5741, 5743, 5749, 5779, 5783, 5791, 5801, 5807, 5813, 5821, 5827, 5839, 5843, 5849, 5851, 5857, 5861, 5867, 5869, 5879, 5881, 5897, 5903, 5923, 5927, 5939, 5953, 5981, 5987, 6007, 6011, 6029, 6037, 6043, 6047, 6053, 6067, 6073, 6079, 6089, 6091, 6101, 6113, 6121, 6131, 6133, 6143, 6151, 6163, 6173, 6197, 6199, 6203, 6211, 6217, 6221, 6229, 6247, 6257, 6263, 6269, 6271, 6277, 6287, 6299, 6301, 6311, 6317, 6323, 6329, 6337, 6343, 6353, 6359, 6361, 6367, 6373, 6379, 6389, 6397, 6421, 6427, 6449, 6451, 6469, 6473, 6481, 6491, 6521, 6529, 6547, 6551, 6553, 6563, 6569, 6571, 6577, 6581, 6599, 6607, 6619, 6637, 6653, 6659, 6661, 6673, 6679, 6689, 6691, 6701, 6703, 6709, 6719, 6733, 6737, 6761, 6763, 6779, 6781, 6791, 6793, 6803, 6823, 6827, 6829, 6833, 6841, 6857, 6863, 6869, 6871, 6883, 6899, 6907, 6911, 6917, 6947, 6949, 6959, 6961, 6967, 6971, 6977, 6983, 6991, 6997, 7001, 7013, 7019, 7027, 7039, 7043, 7057, 7069, 7079, 7103, 7109, 7121, 7127, 7129, 7151, 7159, 7177, 7187, 7193, 7207, 7211, 7213, 7219, 7229, 7237, 7243, 7247, 7253, 7283, 7297, 7307, 7309, 7321, 7331, 7333, 7349, 7351, 7369, 7393, 7411, 7417, 7433, 7451, 7457, 7459, 7477, 7481, 7487, 7489, 7499, 7507, 7517, 7523, 7529, 7537, 7541, 7547, 7549, 7559, 7561, 7573, 7577, 7583, 7589, 7591, 7603, 7607, 7621, 7639, 7643, 7649, 7669, 7673, 7681, 7687, 7691, 7699, 7703, 7717, 7723, 7727, 7741, 7753, 7757, 7759, 7789, 7793, 7817, 7823, 7829, 7841, 7853, 7867, 7873, 7877, 7879, 7883, 7901, 7907, 7919, 7927, 7933, 7937, 7949, 7951, 7963, 7993, 8009, 8011, 8017, 8039, 8053, 8059, 8069, 8081, 8087, 8089, 8093, 8101, 8111, 8117, 8123, 8147, 8161, 8167, 8171, 8179, 8191, 8209, 8219, 8221, 8231, 8233, 8237, 8243, 8263, 8269, 8273, 8287, 8291, 8293, 8297, 8311, 8317, 8329, 8353, 8363, 8369, 8377, 8387, 8389, 8419, 8423, 8429, 8431, 8443, 8447, 8461, 8467, 8501, 8513, 8521, 8527, 8537, 8539, 8543, 8563, 8573, 8581, 8597, 8599, 8609, 8623, 8627, 8629, 8641, 8647, 8663, 8669, 8677, 8681, 8689, 8693, 8699, 8707, 8713, 8719, 8731, 8737, 8741, 8747, 8753, 8761, 8779, 8783, 8803, 8807, 8819, 8821, 8831, 8837, 8839, 8849, 8861, 8863, 8867, 8887, 8893, 8923, 8929, 8933, 8941, 8951, 8963, 8969, 8971, 8999, 9001, 9007, 9011, 9013, 9029, 9041, 9043, 9049, 9059, 9067, 9091, 9103, 9109, 9127, 9133, 9137, 9151, 9157, 9161, 9173, 9181, 9187, 9199, 9203, 9209, 9221, 9227, 9239, 9241, 9257, 9277, 9281, 9283, 9293, 9311, 9319, 9323, 9337, 9341, 9343, 9349, 9371, 9377, 9391, 9397, 9403, 9413, 9419, 9421, 9431, 9433, 9437, 9439, 9461, 9463, 9467, 9473, 9479, 9491, 9497, 9511, 9521, 9533, 9539, 9547, 9551, 9587, 9601, 9613, 9619, 9623, 9629, 9631, 9643, 9649, 9661, 9677, 9679, 9689, 9697, 9719, 9721, 9733, 9739, 9743, 9749, 9767, 9769, 9781, 9787, 9791, 9803, 9811, 9817, 9829, 9833, 9839, 9851, 9857, 9859, 9871, 9883, 9887, 9901, 9907, 9923, 9929, 9931, 9941, 9949, 9967, 9973]\n"
     ]
    }
   ],
   "source": [
    "l=[]\n",
    "\n",
    "def prime():\n",
    "    for i in range(1,10000):\n",
    "        flag= False\n",
    "        for j in range(2,i):\n",
    "            if(i%j==0):\n",
    "                flag=True\n",
    "                break\n",
    "        if(not flag):\n",
    "            l.append(i)\n",
    "            \n",
    "prime()\n",
    "print(\"The list of prime numbers are: \",l)"
   ]
  },
  {
   "cell_type": "markdown",
   "id": "2b01135a",
   "metadata": {},
   "source": [
    "### 13.Write a Python Program to find the factorial of a number "
   ]
  },
  {
   "cell_type": "code",
   "execution_count": 4,
   "id": "ac9bfa71",
   "metadata": {},
   "outputs": [
    {
     "name": "stdout",
     "output_type": "stream",
     "text": [
      "Enter the number:256\n",
      "The factorial of 256 is 857817775342842654119082271681232625157781520279485619859655650377269452553147589377440291360451408450375885342336584306157196834693696475322289288497426025679637332563368786442675207626794560187968867971521143307702077526646451464709187326100832876325702818980773671781454170250523018608495319068138257481070252817559459476987034665712738139286205234756808218860701203611083152093501947437109101726968262861606263662435022840944191408424615936000000000000000000000000000000000000000000000000000000000000000.\n"
     ]
    }
   ],
   "source": [
    "def factorial(n):\n",
    "    if(n<1):\n",
    "        return 1\n",
    "    else:\n",
    "        return (n*factorial(n-1))\n",
    "n=int(input(\"Enter the number:\"))\n",
    "value= factorial(n)\n",
    "print(f'The factorial of {n} is {value}.')"
   ]
  },
  {
   "cell_type": "markdown",
   "id": "509af99f",
   "metadata": {},
   "source": [
    "### 14. Write a Python program to solve quadratic equation ."
   ]
  },
  {
   "cell_type": "code",
   "execution_count": 15,
   "id": "93751947",
   "metadata": {},
   "outputs": [],
   "source": [
    "import math"
   ]
  },
  {
   "cell_type": "code",
   "execution_count": 16,
   "id": "8c7939e7",
   "metadata": {},
   "outputs": [
    {
     "name": "stdout",
     "output_type": "stream",
     "text": [
      "Enter the coffecient of a.5\n",
      "Enter the coffecient of b.69\n",
      "Enter the coffecient of c.5\n",
      "4661.0\n",
      "-0.07284832452068599\n"
     ]
    }
   ],
   "source": [
    "def quad(n,m,l):\n",
    "    eq=(m*m)-(4*n*l)\n",
    "    print (eq)\n",
    "    if(eq>0):\n",
    "        eq1= (-m + (math.sqrt(eq)))/(2*n)\n",
    "        print(eq1)\n",
    "    elif(eq==0):\n",
    "        eq2=(-m + 0)/(2*n)\n",
    "        print(eq2)\n",
    "    else:\n",
    "        eq3= (-m - (math.sqrt(eq)))/(2*n)\n",
    "        print(eq3)\n",
    "        \n",
    "a=float(input(\"Enter the coffecient of a.\"))\n",
    "b=float(input(\"Enter the coffecient of b.\"))\n",
    "c=float(input(\"Enter the coffecient of c.\"))\n",
    "quad(a,b,c)"
   ]
  },
  {
   "cell_type": "markdown",
   "id": "6fdca9cc",
   "metadata": {},
   "source": [
    "### 15.\tWrite a Python Program to Print the Fibonacci sequence."
   ]
  },
  {
   "cell_type": "code",
   "execution_count": 1,
   "id": "d2357b85",
   "metadata": {},
   "outputs": [
    {
     "name": "stdout",
     "output_type": "stream",
     "text": [
      "Enter the number of terms you want:45\n",
      "[0, 1, 1, 3, 5, 7, 9, 11, 13, 15, 17, 19, 21, 23, 25, 27, 29, 31, 33, 35, 37, 39, 41, 43, 45, 47, 49, 51, 53, 55, 57, 59, 61, 63, 65, 67, 69, 71, 73, 75, 77, 79, 81, 83, 85]\n"
     ]
    }
   ],
   "source": [
    "n=int(input(\"Enter the number of terms you want:\"))\n",
    "l=[0,1]\n",
    "if n<0:\n",
    "    print(\"The Entered limit of series is invalid,please enter a natural number\")\n",
    "elif(n<=2 and n>0):\n",
    "    print(\"The entered number forms the initial list. Try with a greater number. \")\n",
    "else:\n",
    "    for i in range(n):\n",
    "        if(i>=2):\n",
    "            l.append((i-1)+(i-2))\n",
    "    print(l)"
   ]
  },
  {
   "cell_type": "markdown",
   "id": "c07d3255",
   "metadata": {},
   "source": [
    "### 16. Write a program to enter the values and check whether the enter values can form a triangle or not and if yes then display whether the triangle is Equilateral, Isosceles or Scalane."
   ]
  },
  {
   "cell_type": "code",
   "execution_count": null,
   "id": "a9f99cbe",
   "metadata": {},
   "outputs": [],
   "source": []
  },
  {
   "cell_type": "code",
   "execution_count": null,
   "id": "61e0a6ab",
   "metadata": {},
   "outputs": [],
   "source": []
  },
  {
   "cell_type": "code",
   "execution_count": null,
   "id": "f2adae33",
   "metadata": {},
   "outputs": [],
   "source": []
  },
  {
   "cell_type": "code",
   "execution_count": null,
   "id": "92d289d8",
   "metadata": {},
   "outputs": [],
   "source": []
  },
  {
   "cell_type": "code",
   "execution_count": null,
   "id": "3019d05f",
   "metadata": {},
   "outputs": [],
   "source": []
  },
  {
   "cell_type": "code",
   "execution_count": null,
   "id": "e4306529",
   "metadata": {},
   "outputs": [],
   "source": []
  },
  {
   "cell_type": "code",
   "execution_count": null,
   "id": "26930a7f",
   "metadata": {},
   "outputs": [],
   "source": []
  }
 ],
 "metadata": {
  "kernelspec": {
   "display_name": "Python 3 (ipykernel)",
   "language": "python",
   "name": "python3"
  },
  "language_info": {
   "codemirror_mode": {
    "name": "ipython",
    "version": 3
   },
   "file_extension": ".py",
   "mimetype": "text/x-python",
   "name": "python",
   "nbconvert_exporter": "python",
   "pygments_lexer": "ipython3",
   "version": "3.10.9"
  }
 },
 "nbformat": 4,
 "nbformat_minor": 5
}
